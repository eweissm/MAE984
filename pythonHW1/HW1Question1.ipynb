{
 "cells": [
  {
   "cell_type": "markdown",
   "source": [
    "# Homework 1 Question 1\n",
    "\n",
    "## Inititial Guess is all values are 1:"
   ],
   "metadata": {
    "collapsed": false,
    "pycharm": {
     "name": "#%% md\n"
    }
   }
  },
  {
   "cell_type": "code",
   "execution_count": null,
   "outputs": [],
   "source": [
    "from scipy.optimize import minimize\n",
    "import numpy as np\n",
    "\n",
    "# question 1\n",
    "## initial conditions all = 1\n",
    "print('all ICs = 1:')\n",
    "x0 = np.array([1., 1., 1., 1., 1.])\n",
    "\n",
    "eqn = lambda x: (x[0] - x[1]) ** 2 + (x[1] + x[2] - 2) ** 2 + (x[3] - 1) ** 2 + (x[4] - 1) ** 2\n",
    "bnds = ((-10., 10.), (-10., 10.), (-10., 10.), (-10., 10.), (-10., 10.))\n",
    "\n",
    "cnst = [{'type': 'eq', 'fun': lambda x: (x[0] + 3. * x[1])},\n",
    "       {'type': 'eq', 'fun': lambda x: x[2] + x[3] - 2. * x[4]},\n",
    "       {'type': 'eq', 'fun': lambda x: x[1] - x[4]}]\n",
    "\n",
    "res = minimize(eqn, x0, method='SLSQP', bounds=bnds, constraints=cnst)\n",
    "\n",
    "xOpt = res.x\n",
    "print(xOpt)\n",
    "print('contraint 1 = ')\n",
    "print(xOpt[0] + 3. * xOpt[1])\n",
    "print('contraint 2 = ')\n",
    "print(xOpt[2] + xOpt[3] - 2. * xOpt[4])\n",
    "print('contraint 3 = ')\n",
    "print(xOpt[1] - xOpt[4])\n",
    "print('function = ')\n",
    "print((xOpt[0] - xOpt[1]) ** 2 + (xOpt[1] + xOpt[2] - 2) ** 2 + (xOpt[3] - 1) ** 2 + (xOpt[4] - 1) ** 2)"
   ],
   "metadata": {
    "collapsed": false,
    "pycharm": {
     "name": "#%%\n"
    }
   }
  },
  {
   "cell_type": "code",
   "execution_count": null,
   "outputs": [],
   "source": [
    "## Inititial Guess is all values are 5:"
   ],
   "metadata": {
    "collapsed": false,
    "pycharm": {
     "name": "#%%\n"
    }
   }
  },
  {
   "cell_type": "code",
   "execution_count": null,
   "outputs": [],
   "source": [
    "## initial conditions all = 5\n",
    "print('all ICs = 5:')\n",
    "x0 = np.array([5., 5., 5., 5., 5.])\n",
    "\n",
    "eqn = lambda x: (x[0] - x[1]) ** 2 + (x[1] + x[2] - 2) ** 2 + (x[3] - 1) ** 2 + (x[4] - 1) ** 2\n",
    "bnds = ((-10., 10.), (-10., 10.), (-10., 10.), (-10., 10.), (-10., 10.))\n",
    "\n",
    "cnst = [{'type': 'eq', 'fun': lambda x: (x[0] + 3. * x[1])},\n",
    "       {'type': 'eq', 'fun': lambda x: x[2] + x[3] - 2. * x[4]},\n",
    "       {'type': 'eq', 'fun': lambda x: x[1] - x[4]}]\n",
    "\n",
    "res = minimize(eqn, x0, method='SLSQP', bounds=bnds, constraints=cnst)\n",
    "\n",
    "xOpt = res.x\n",
    "print(xOpt)\n",
    "print('contraint 1 = ')\n",
    "print(xOpt[0] + 3. * xOpt[1])\n",
    "print('contraint 2 = ')\n",
    "print(xOpt[2] + xOpt[3] - 2. * xOpt[4])\n",
    "print('contraint 3 = ')\n",
    "print(xOpt[1] - xOpt[4])\n",
    "print('function = ')\n",
    "print((xOpt[0] - xOpt[1]) ** 2 + (xOpt[1] + xOpt[2] - 2) ** 2 + (xOpt[3] - 1) ** 2 + (xOpt[4] - 1) ** 2)"
   ],
   "metadata": {
    "collapsed": false,
    "pycharm": {
     "name": "#%%\n"
    }
   }
  },
  {
   "cell_type": "markdown",
   "source": [
    "## How initial guesses impact the optmized result"
   ],
   "metadata": {
    "collapsed": false,
    "pycharm": {
     "name": "#%% md\n"
    }
   }
  }
 ],
 "metadata": {
  "kernelspec": {
   "display_name": "Python 3",
   "language": "python",
   "name": "python3"
  },
  "language_info": {
   "codemirror_mode": {
    "name": "ipython",
    "version": 2
   },
   "file_extension": ".py",
   "mimetype": "text/x-python",
   "name": "python",
   "nbconvert_exporter": "python",
   "pygments_lexer": "ipython2",
   "version": "2.7.6"
  }
 },
 "nbformat": 4,
 "nbformat_minor": 0
}